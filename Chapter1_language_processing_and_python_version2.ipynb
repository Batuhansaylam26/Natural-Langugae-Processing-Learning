{
 "cells": [
  {
   "cell_type": "code",
   "execution_count": 146,
   "metadata": {},
   "outputs": [],
   "source": [
    "from huggingface_hub import login\n",
    "from datasets import load_dataset\n",
    "\n",
    "# Hugging Face API Token ile giriş\n",
    "login(token=\"***\")\n",
    "\n",
    "# Veri setini yükleme\n",
    "ds = load_dataset(\"bananabot/TrumpSpeeches\")\n"
   ]
  },
  {
   "cell_type": "code",
   "execution_count": 147,
   "metadata": {},
   "outputs": [],
   "source": [
    "ds=ds[\"train\"].to_pandas()"
   ]
  },
  {
   "cell_type": "code",
   "execution_count": 148,
   "metadata": {},
   "outputs": [
    {
     "data": {
      "text/html": [
       "<div>\n",
       "<style scoped>\n",
       "    .dataframe tbody tr th:only-of-type {\n",
       "        vertical-align: middle;\n",
       "    }\n",
       "\n",
       "    .dataframe tbody tr th {\n",
       "        vertical-align: top;\n",
       "    }\n",
       "\n",
       "    .dataframe thead th {\n",
       "        text-align: right;\n",
       "    }\n",
       "</style>\n",
       "<table border=\"1\" class=\"dataframe\">\n",
       "  <thead>\n",
       "    <tr style=\"text-align: right;\">\n",
       "      <th></th>\n",
       "      <th>text</th>\n",
       "    </tr>\n",
       "  </thead>\n",
       "  <tbody>\n",
       "    <tr>\n",
       "      <th>0</th>\n",
       "      <td></td>\n",
       "    </tr>\n",
       "    <tr>\n",
       "      <th>1</th>\n",
       "      <td>My fellow Americans, I want to speak to you to...</td>\n",
       "    </tr>\n",
       "    <tr>\n",
       "      <th>2</th>\n",
       "      <td>Making America Great Again has always been abo...</td>\n",
       "    </tr>\n",
       "    <tr>\n",
       "      <th>3</th>\n",
       "      <td>Tragically, over the course of the past year m...</td>\n",
       "    </tr>\n",
       "    <tr>\n",
       "      <th>4</th>\n",
       "      <td>Now I am asking everyone who has ever believed...</td>\n",
       "    </tr>\n",
       "  </tbody>\n",
       "</table>\n",
       "</div>"
      ],
      "text/plain": [
       "                                                text\n",
       "0                                                   \n",
       "1  My fellow Americans, I want to speak to you to...\n",
       "2  Making America Great Again has always been abo...\n",
       "3  Tragically, over the course of the past year m...\n",
       "4  Now I am asking everyone who has ever believed..."
      ]
     },
     "execution_count": 148,
     "metadata": {},
     "output_type": "execute_result"
    }
   ],
   "source": [
    "ds.head()"
   ]
  },
  {
   "cell_type": "code",
   "execution_count": 149,
   "metadata": {},
   "outputs": [
    {
     "name": "stdout",
     "output_type": "stream",
     "text": [
      " My fellow Americans, I want to speak to you tonight about the troubling events of the past week. As I have said, the incursion of the US Capitol struck at the very heart of our Republic. It angered and appalled millions of Americans across the political spectrum. I want to be very clear, I unequivocally condemn the violence that we saw last week. Violence and vandalism have absolutely no place in our country and no place in our movement. Making America Great Again has always been about defendin\n"
     ]
    }
   ],
   "source": [
    "txt=\" \".join(ds[\"text\"].astype(str))\n",
    "print(txt[:500])"
   ]
  },
  {
   "cell_type": "code",
   "execution_count": 150,
   "metadata": {},
   "outputs": [
    {
     "name": "stderr",
     "output_type": "stream",
     "text": [
      "[nltk_data] Downloading package punkt to /home/wsl/nltk_data...\n",
      "[nltk_data]   Package punkt is already up-to-date!\n",
      "[nltk_data] Downloading package stopwords to /home/wsl/nltk_data...\n",
      "[nltk_data]   Package stopwords is already up-to-date!\n",
      "[nltk_data] Downloading package wordnet to /home/wsl/nltk_data...\n",
      "[nltk_data]   Package wordnet is already up-to-date!\n",
      "[nltk_data] Downloading package omw-1.4 to /home/wsl/nltk_data...\n",
      "[nltk_data]   Package omw-1.4 is already up-to-date!\n"
     ]
    }
   ],
   "source": [
    "import nltk\n",
    "nltk.download('punkt')     \n",
    "nltk.download('stopwords')\n",
    "nltk.download('wordnet')    \n",
    "nltk.download('omw-1.4')   \n",
    "lemmatizer = nltk.stem.WordNetLemmatizer()\n",
    "tokens = nltk.word_tokenize(txt)\n",
    "stop_words = set(nltk.corpus.stopwords.words('english'))\n",
    "filtered_tokens = [\n",
    "    lemmatizer.lemmatize(word.lower()) for word in tokens \n",
    "    if word.lower() not in stop_words and word.isalpha()\n",
    "]\n",
    "corpus = nltk.Text(filtered_tokens)\n"
   ]
  },
  {
   "cell_type": "code",
   "execution_count": 151,
   "metadata": {},
   "outputs": [
    {
     "name": "stdout",
     "output_type": "stream",
     "text": [
      "<Text: fellow american want speak tonight troubling event past...>\n"
     ]
    }
   ],
   "source": [
    "print(corpus)\n"
   ]
  },
  {
   "cell_type": "markdown",
   "metadata": {},
   "source": [
    "# **Text and words**"
   ]
  },
  {
   "cell_type": "markdown",
   "metadata": {},
   "source": [
    "## Searching Text"
   ]
  },
  {
   "cell_type": "markdown",
   "metadata": {},
   "source": [
    "### concordance function"
   ]
  },
  {
   "cell_type": "markdown",
   "metadata": {},
   "source": [
    "concordance: every occurence of given world"
   ]
  },
  {
   "cell_type": "code",
   "execution_count": 152,
   "metadata": {},
   "outputs": [
    {
     "name": "stdout",
     "output_type": "stream",
     "text": [
      "Displaying 3 of 3 matches:\n",
      "her president xi china putin russia erdogan turkey kim jong un north korea reme\n",
      "er one country asked call president erdogan turkey get along well said sir plea\n",
      "utin president xi china kim jong un erdogan turkey chess player guy shot best y\n"
     ]
    }
   ],
   "source": [
    "corpus.concordance(\"erdogan\")"
   ]
  },
  {
   "cell_type": "markdown",
   "metadata": {},
   "source": [
    "### similar function"
   ]
  },
  {
   "cell_type": "markdown",
   "metadata": {},
   "source": [
    "similar: other words appear in similar range of context"
   ]
  },
  {
   "cell_type": "code",
   "execution_count": 153,
   "metadata": {},
   "outputs": [
    {
     "name": "stdout",
     "output_type": "stream",
     "text": [
      "defeated\n"
     ]
    }
   ],
   "source": [
    "corpus.similar(\"turkey\")"
   ]
  },
  {
   "cell_type": "markdown",
   "metadata": {},
   "source": [
    "### Common context "
   ]
  },
  {
   "cell_type": "markdown",
   "metadata": {},
   "source": [
    "allows us to examine just the context that are shared by two or more words"
   ]
  },
  {
   "cell_type": "code",
   "execution_count": 154,
   "metadata": {},
   "outputs": [
    {
     "name": "stdout",
     "output_type": "stream",
     "text": [
      "state_never\n"
     ]
    }
   ],
   "source": [
    "corpus.common_contexts([\"iran\",\"israel\"])"
   ]
  },
  {
   "cell_type": "markdown",
   "metadata": {},
   "source": [
    "### Lexical Dispersion Plot"
   ]
  },
  {
   "cell_type": "markdown",
   "metadata": {},
   "source": [
    "determine the location of a word in text (positional information)"
   ]
  },
  {
   "cell_type": "code",
   "execution_count": 155,
   "metadata": {},
   "outputs": [
    {
     "data": {
      "image/png": "[encoded data removed]",
      "text/plain": [
       "<Figure size 640x480 with 1 Axes>"
      ]
     },
     "metadata": {},
     "output_type": "display_data"
    }
   ],
   "source": [
    "corpus.dispersion_plot([\"citizen\", \"democracy\", \"freedom\", \"duty\", \"america\"])"
   ]
  },
  {
   "cell_type": "markdown",
   "metadata": {},
   "source": [
    "### Generate"
   ]
  },
  {
   "cell_type": "markdown",
   "metadata": {},
   "source": [
    "generating some random text in various style we have just seen"
   ]
  },
  {
   "cell_type": "code",
   "execution_count": 156,
   "metadata": {},
   "outputs": [
    {
     "name": "stderr",
     "output_type": "stream",
     "text": [
      "Building ngram index...\n"
     ]
    },
    {
     "name": "stdout",
     "output_type": "stream",
     "text": [
      "planet aggressive early action saved million move put ban china\n",
      "criticized biden opposed china travel ban country want son daughter\n",
      "know truth could see thing happening biden candidate rioter looter run\n",
      "wild know interesting forget four year four year four year ago gave\n",
      "great prayer tell got get real speech thursday done great oh great\n",
      "president great left judge like amy way amy great nominated amy coney\n",
      "barrett faith never stopped working asked group family going tough\n",
      "night democrat convention right jacksonville timing little bit earlier\n",
      "right little bit better created million new job added job united state\n",
      "watch hearing\n"
     ]
    },
    {
     "data": {
      "text/plain": [
       "'planet aggressive early action saved million move put ban china\\ncriticized biden opposed china travel ban country want son daughter\\nknow truth could see thing happening biden candidate rioter looter run\\nwild know interesting forget four year four year four year ago gave\\ngreat prayer tell got get real speech thursday done great oh great\\npresident great left judge like amy way amy great nominated amy coney\\nbarrett faith never stopped working asked group family going tough\\nnight democrat convention right jacksonville timing little bit earlier\\nright little bit better created million new job added job united state\\nwatch hearing'"
      ]
     },
     "execution_count": 156,
     "metadata": {},
     "output_type": "execute_result"
    }
   ],
   "source": [
    "corpus.generate()"
   ]
  },
  {
   "cell_type": "markdown",
   "metadata": {},
   "source": [
    "## Counting Vocabulary "
   ]
  },
  {
   "cell_type": "markdown",
   "metadata": {},
   "source": [
    "the length of a text from start to finish, in terms of the words\n",
    " and punctuation symbols that appear"
   ]
  },
  {
   "cell_type": "code",
   "execution_count": 157,
   "metadata": {},
   "outputs": [
    {
     "data": {
      "text/plain": [
       "301169"
      ]
     },
     "execution_count": 157,
     "metadata": {},
     "output_type": "execute_result"
    }
   ],
   "source": [
    "len(corpus)"
   ]
  },
  {
   "cell_type": "markdown",
   "metadata": {},
   "source": [
    " Corpus has 301,169 words and punctuation symbols, or “tokens.” A token is the\n",
    " technical name for a sequence of characters"
   ]
  },
  {
   "cell_type": "markdown",
   "metadata": {},
   "source": [
    "How many distinct words does the corpus contain?"
   ]
  },
  {
   "cell_type": "code",
   "execution_count": 158,
   "metadata": {},
   "outputs": [
    {
     "data": {
      "text/plain": [
       "10560"
      ]
     },
     "execution_count": 158,
     "metadata": {},
     "output_type": "execute_result"
    }
   ],
   "source": [
    "distinct_words=sorted(set(corpus))\n",
    "len(distinct_words)"
   ]
  },
  {
   "cell_type": "markdown",
   "metadata": {},
   "source": [
    " Although it has 301,169 tokens, this corpus has only 10,560 distinct words, or “word types.” A word type is the form or spelling of the word independently of its specific occurrences in a text—that is, the word considered as a unique item of vocabulary. Our count of 10,560 items will include punctuation symbols, so we will generally call these unique items types instead of word types."
   ]
  },
  {
   "cell_type": "markdown",
   "metadata": {},
   "source": [
    "### Lexical Diversity"
   ]
  },
  {
   "cell_type": "markdown",
   "metadata": {},
   "source": [
    "measure of the lexical richness of the text"
   ]
  },
  {
   "cell_type": "code",
   "execution_count": 159,
   "metadata": {},
   "outputs": [
    {
     "data": {
      "text/plain": [
       "28.519791666666666"
      ]
     },
     "execution_count": 159,
     "metadata": {},
     "output_type": "execute_result"
    }
   ],
   "source": [
    "from __future__ import division\n",
    "len(corpus)/len(set(corpus))"
   ]
  },
  {
   "cell_type": "markdown",
   "metadata": {},
   "source": [
    "Each word is used 29 times on average"
   ]
  },
  {
   "cell_type": "markdown",
   "metadata": {},
   "source": [
    "funciton of it:"
   ]
  },
  {
   "cell_type": "code",
   "execution_count": 160,
   "metadata": {},
   "outputs": [],
   "source": [
    "def lexical_diversity(corpus):\n",
    "    return len(corpus)/len(set(corpus))"
   ]
  },
  {
   "cell_type": "markdown",
   "metadata": {},
   "source": [
    "### Count"
   ]
  },
  {
   "cell_type": "markdown",
   "metadata": {},
   "source": [
    " We can count how often a word occurs in a text"
   ]
  },
  {
   "cell_type": "code",
   "execution_count": 161,
   "metadata": {},
   "outputs": [
    {
     "data": {
      "text/plain": [
       "1375"
      ]
     },
     "execution_count": 161,
     "metadata": {},
     "output_type": "execute_result"
    }
   ],
   "source": [
    "corpus.count(\"biden\")"
   ]
  },
  {
   "cell_type": "markdown",
   "metadata": {},
   "source": [
    "### Percentage"
   ]
  },
  {
   "cell_type": "markdown",
   "metadata": {},
   "source": [
    "Compute what percentage of the text is taken up by a specific word"
   ]
  },
  {
   "cell_type": "code",
   "execution_count": 162,
   "metadata": {},
   "outputs": [
    {
     "data": {
      "text/plain": [
       "0.45655429343657544"
      ]
     },
     "execution_count": 162,
     "metadata": {},
     "output_type": "execute_result"
    }
   ],
   "source": [
    "corpus.count(\"biden\")/len(corpus)*100"
   ]
  },
  {
   "cell_type": "markdown",
   "metadata": {},
   "source": [
    "function of it:\n"
   ]
  },
  {
   "cell_type": "code",
   "execution_count": 163,
   "metadata": {},
   "outputs": [],
   "source": [
    "def percentage(word,corpus):\n",
    "    return corpus.count(word)/len(corpus)*100"
   ]
  },
  {
   "cell_type": "markdown",
   "metadata": {},
   "source": [
    "# **Simple Statistics**"
   ]
  },
  {
   "cell_type": "markdown",
   "metadata": {},
   "source": [
    "## Frequency Distributions"
   ]
  },
  {
   "cell_type": "code",
   "execution_count": 164,
   "metadata": {},
   "outputs": [],
   "source": [
    "fdist=nltk.FreqDist(corpus)"
   ]
  },
  {
   "cell_type": "code",
   "execution_count": 165,
   "metadata": {},
   "outputs": [
    {
     "data": {
      "text/plain": [
       "<Axes: xlabel='Samples', ylabel='Cumulative Counts'>"
      ]
     },
     "execution_count": 165,
     "metadata": {},
     "output_type": "execute_result"
    },
    {
     "data": {
      "image/png": "[encoded data removed]",
      "text/plain": [
       "<Figure size 640x480 with 1 Axes>"
      ]
     },
     "metadata": {},
     "output_type": "display_data"
    }
   ],
   "source": [
    "fdist.plot(50,cumulative=True)"
   ]
  },
  {
   "cell_type": "markdown",
   "metadata": {},
   "source": [
    "## Fine-Grained Selection of Words"
   ]
  },
  {
   "cell_type": "markdown",
   "metadata": {},
   "source": [
    "{w | w ∈ V & P(w)} \\\n",
    "P is the property function which filters words being more than n characters long."
   ]
  },
  {
   "cell_type": "code",
   "execution_count": 166,
   "metadata": {},
   "outputs": [
    {
     "data": {
      "text/plain": [
       "['bureaucratically',\n",
       " 'constitutionality',\n",
       " 'constitutionally',\n",
       " 'decriminalization',\n",
       " 'disproportionately',\n",
       " 'enthusiastically',\n",
       " 'environmentalist',\n",
       " 'institutionalized',\n",
       " 'intergovernmental',\n",
       " 'transformational',\n",
       " 'trunalimunumaprzure',\n",
       " 'unconstitutional']"
      ]
     },
     "execution_count": 166,
     "metadata": {},
     "output_type": "execute_result"
    }
   ],
   "source": [
    "V=set(corpus)\n",
    "long_words=[w for w in V if len(w) >15]\n",
    "sorted(long_words)"
   ]
  },
  {
   "cell_type": "markdown",
   "metadata": {},
   "source": [
    " Well, some very long words are often hapaxes (i.e., unique) and perhaps it would be better to find frequently occurring long words. This seems promising since it eliminates frequent short words (e.g., the) and infrequent long words (e.g., antiphilosophists). Here are all words from the chat corpus that are longer than seven characters, that occur more than seven times"
   ]
  },
  {
   "cell_type": "code",
   "execution_count": 167,
   "metadata": {},
   "outputs": [
    {
     "data": {
      "text/plain": [
       "['abandoned',\n",
       " 'abolishing',\n",
       " 'abortion',\n",
       " 'absentee',\n",
       " 'absolute',\n",
       " 'absolutely',\n",
       " 'accident',\n",
       " 'accomplish',\n",
       " 'accomplished',\n",
       " 'accomplishment']"
      ]
     },
     "execution_count": 167,
     "metadata": {},
     "output_type": "execute_result"
    }
   ],
   "source": [
    "fdist = nltk.FreqDist(corpus)\n",
    "sorted([w for w in set(corpus) if len(w) > 7 and fdist[w] > 7])[:10]"
   ]
  },
  {
   "cell_type": "markdown",
   "metadata": {},
   "source": [
    "## Collocations & Bigrams"
   ]
  },
  {
   "cell_type": "markdown",
   "metadata": {},
   "source": [
    "A collocation is a sequence of words that occur together unusually often.  \\To get a handle on collocations, we start off by extracting from a text a list of word\n",
    " pairs, also known as bigrams."
   ]
  },
  {
   "cell_type": "markdown",
   "metadata": {},
   "source": [
    "### Collocations"
   ]
  },
  {
   "cell_type": "code",
   "execution_count": 168,
   "metadata": {},
   "outputs": [
    {
     "name": "stdout",
     "output_type": "stream",
     "text": [
      "four year; thank much; joe biden; united state; usa usa; new york;\n",
      "sleepy joe; white house; fake news; year ago; north carolina; law\n",
      "enforcement; little bit; second amendment; supreme court; great job;\n",
      "long time; god bless; middle east; donald trump\n"
     ]
    }
   ],
   "source": [
    "corpus.collocations()"
   ]
  },
  {
   "cell_type": "markdown",
   "metadata": {},
   "source": [
    "## Count Other Things"
   ]
  },
  {
   "cell_type": "markdown",
   "metadata": {},
   "source": [
    "the distribution of word lengths in a text"
   ]
  },
  {
   "cell_type": "code",
   "execution_count": 169,
   "metadata": {},
   "outputs": [
    {
     "data": {
      "text/plain": [
       "FreqDist({4: 72774, 5: 58336, 6: 40880, 7: 34623, 3: 34580, 8: 24635, 9: 15016, 10: 9089, 11: 3230, 2: 2629, ...})"
      ]
     },
     "execution_count": 169,
     "metadata": {},
     "output_type": "execute_result"
    }
   ],
   "source": [
    "length_of_words=[len(w) for w in corpus]\n",
    "fdist_length= nltk.FreqDist(length_of_words)\n",
    "fdist_length"
   ]
  },
  {
   "cell_type": "code",
   "execution_count": 170,
   "metadata": {},
   "outputs": [
    {
     "data": {
      "text/plain": [
       "<Axes: xlabel='Samples', ylabel='Counts'>"
      ]
     },
     "execution_count": 170,
     "metadata": {},
     "output_type": "execute_result"
    },
    {
     "data": {
      "image/png": "[encoded data removed]",
      "text/plain": [
       "<Figure size 640x480 with 1 Axes>"
      ]
     },
     "metadata": {},
     "output_type": "display_data"
    }
   ],
   "source": [
    "fdist_length.plot()"
   ]
  },
  {
   "cell_type": "markdown",
   "metadata": {},
   "source": [
    "# **Automatic Natural Language Understanding**"
   ]
  },
  {
   "cell_type": "markdown",
   "metadata": {},
   "source": [
    "## Automatic Natural Language Understanding\n",
    "\n",
    " In word sense disambiguation we want to work out which sense of a word was in tended in a given context.  \n",
    " We automatically disambiguate words using context, exploiting the simple fact that nearby words have closely related meanings.\n",
    "\n",
    " ## Pronoun Resolution\n",
    "\n",
    " A deeper kind of language understanding is to work out “who did what to whom,” i.e., to detect the subjects and objects of verbs.  \n",
    " Computational techniques for tackling this problem include anaphora resolution—identifying what a pronoun or noun phrase refers to—and semantic  role labeling—identifying how a noun phrase relates to the verb (as agent, patient, instrument, and so on).  \n",
    " Working out the sense of a word, the subject of a verb, and the antecedent of a pronoun are steps in establishing the meaning of a sentence, things we  would expect a language understanding system to be able to do.\n",
    "\n",
    " "
   ]
  }
 ],
 "metadata": {
  "kernelspec": {
   "display_name": "base",
   "language": "python",
   "name": "python3"
  },
  "language_info": {
   "codemirror_mode": {
    "name": "ipython",
    "version": 3
   },
   "file_extension": ".py",
   "mimetype": "text/x-python",
   "name": "python",
   "nbconvert_exporter": "python",
   "pygments_lexer": "ipython3",
   "version": "3.12.2"
  }
 },
 "nbformat": 4,
 "nbformat_minor": 2
}
